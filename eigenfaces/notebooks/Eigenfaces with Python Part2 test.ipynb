{
 "cells": [
  {
   "cell_type": "code",
   "execution_count": null,
   "metadata": {},
   "outputs": [],
   "source": [
    "import sys\n",
    "sys.path.append('../utils/')"
   ]
  },
  {
   "cell_type": "code",
   "execution_count": null,
   "metadata": {},
   "outputs": [],
   "source": [
    "from ImageUtils import *"
   ]
  },
  {
   "cell_type": "code",
   "execution_count": null,
   "metadata": {},
   "outputs": [],
   "source": [
    "import numpy as np\n",
    "import pandas as pd # Needs the package Pandas to be installed. Check Anaconda Environments and Packages.\n",
    "from sklearn.decomposition import PCA # Needs SciKit Learn package to be installed. Check Anaconda Environments and Packages.4\n",
    "from sklearn.covariance import LedoitWolf\n",
    "from sklearn.model_selection import train_test_split\n",
    "from sklearn.linear_model import LogisticRegression\n",
    "from sklearn.metrics import accuracy_score, precision_score\n",
    "import matplotlib.pyplot as plt\n",
    "from scipy.spatial.distance import mahalanobis\n",
    "from collections import Counter\n",
    "from sklearn.preprocessing import label_binarize\n",
    "import time"
   ]
  },
  {
   "cell_type": "code",
   "execution_count": null,
   "metadata": {},
   "outputs": [],
   "source": [
    "faces94_male = readFaces94MaleFaces(gray=True)\n",
    "faces94_female = readFaces94FemaleFaces(gray=True)\n",
    "faces94_malestaff = readFaces94MaleStaffFaces(gray=True)\n",
    "\n",
    "dataset = np.vstack((faces94_male, faces94_female, faces94_malestaff))\n",
    "\n",
    "dataset_N, height, width = dataset.shape\n",
    "dataset.shape"
   ]
  },
  {
   "cell_type": "code",
   "execution_count": null,
   "metadata": {},
   "outputs": [],
   "source": [
    "mean_all = np.mean(dataset.reshape(dataset_N, height*width), axis=0).reshape(height, width)\n",
    "plt.imshow(mean_all, plt.cm.gray)"
   ]
  },
  {
   "cell_type": "code",
   "execution_count": null,
   "metadata": {},
   "outputs": [],
   "source": [
    "data=dataset.reshape(dataset_N, height*width) - np.mean(dataset.reshape(dataset_N, height*width), axis=0)\n",
    "datasetmean=np.dot(data,data.T)\n",
    "print(datasetmean.shape)"
   ]
  },
  {
   "cell_type": "code",
   "execution_count": null,
   "metadata": {},
   "outputs": [],
   "source": [
    "u,s,vh = np.linalg.svd(datasetmean) #u vectores propios en columnas s=landas vh=vectores propios en filas"
   ]
  },
  {
   "cell_type": "code",
   "execution_count": null,
   "metadata": {},
   "outputs": [],
   "source": [
    "print(u[:,0:4].shape) #para seleccionar columnas de u o s"
   ]
  },
  {
   "cell_type": "code",
   "execution_count": null,
   "metadata": {},
   "outputs": [],
   "source": [
    "representation_percentage = 0.98 #representacion imagen Eigenvectors valores propios"
   ]
  },
  {
   "cell_type": "code",
   "execution_count": null,
   "metadata": {},
   "outputs": [],
   "source": [
    "sum_eig = np.sum(s)\n",
    "percentage_variance = np.divide(s, sum_eig)\n",
    "sum_var = 0\n",
    "num_var = 0\n",
    "for i in np.arange(percentage_variance.shape[0]):\n",
    "    if sum_var >= representation_percentage:\n",
    "        num_var = i\n",
    "        break;\n",
    "    \n",
    "    sum_var += percentage_variance[i]\n",
    "    \n",
    "print(num_var)\n",
    "print(sum_var)\n",
    "print(dataset_N)"
   ]
  },
  {
   "cell_type": "code",
   "execution_count": null,
   "metadata": {},
   "outputs": [],
   "source": [
    "from sklearn import preprocessing \n",
    "EigenvectorsA=np.dot(data.T,u[:,0:num_var])\n",
    "NormEigenvectorsA = preprocessing.normalize(EigenvectorsA,axis=0, norm='l2')\n",
    "print(np.linalg.norm(NormEigenvectorsA[:,5],ord=None))#check normalizacion vectores propios de XT.X"
   ]
  },
  {
   "cell_type": "code",
   "execution_count": null,
   "metadata": {},
   "outputs": [],
   "source": [
    "cols = 4\n",
    "rows = 4\n",
    "plt.figure(figsize=(30,20))\n",
    "for i in np.arange(rows * cols):\n",
    "    plt.subplot(rows, cols, i + 1)\n",
    "    plt.imshow(NormEigenvectorsA[:,i].reshape(height, width), plt.cm.gray)"
   ]
  },
  {
   "cell_type": "code",
   "execution_count": null,
   "metadata": {},
   "outputs": [],
   "source": [
    "N_image=1071\n",
    "Image=data[N_image]#seleccionar imagen individual\n",
    "w=np.dot(Image,NormEigenvectorsA)#pesos w de cada Eigenface en subespacio generado\n",
    "#Recunstructed=np.sum(w*NormEigenvectorsA,axis=1)+mean_all.reshape(height*width)#otra forma de construir la imagen\n",
    "Reconstructed=np.dot(w,NormEigenvectorsA.T)+mean_all.reshape(height*width)#es mas claro w*vectores propios transpuestos"
   ]
  },
  {
   "cell_type": "code",
   "execution_count": null,
   "metadata": {},
   "outputs": [],
   "source": [
    "example_image = Reconstructed\n",
    "original_image = dataset[N_image]\n",
    "fig = plt.figure(figsize=(8,10))\n",
    "ax1 = fig.add_subplot(1,2,1)\n",
    "plt.title(\"Original Image\")\n",
    "ax1.imshow(original_image, plt.cm.gray)\n",
    "ax2 = fig.add_subplot(1,2,2)\n",
    "plt.title(\"Reconstructed Image\")\n",
    "ax2.imshow(example_image.reshape(height,width), plt.cm.gray)"
   ]
  },
  {
   "cell_type": "code",
   "execution_count": null,
   "metadata": {},
   "outputs": [],
   "source": [
    "image_index = np.random.randint(0, high=dataset_N, size=1)[0]\n",
    "example_image = np.dot(np.dot(data[image_index],NormEigenvectorsA),NormEigenvectorsA.T)+mean_all.reshape(height*width)\n",
    "original_image = dataset[image_index]\n",
    "fig = plt.figure(figsize=(8,10))\n",
    "ax1 = fig.add_subplot(1,2,1)\n",
    "plt.title(\"Original Image\")\n",
    "ax1.imshow(original_image, plt.cm.gray)\n",
    "ax2 = fig.add_subplot(1,2,2)\n",
    "plt.title(\"Reconstructed Image\")\n",
    "ax2.imshow(example_image.reshape(height,width), plt.cm.gray)"
   ]
  },
  {
   "cell_type": "code",
   "execution_count": null,
   "metadata": {},
   "outputs": [],
   "source": [
    "dataReconstructed=np.dot(np.dot(data,NormEigenvectorsA),NormEigenvectorsA.T)+mean_all.reshape(height*width)\n",
    "print(dataReconstructed.shape)"
   ]
  },
  {
   "cell_type": "code",
   "execution_count": null,
   "metadata": {},
   "outputs": [],
   "source": [
    "Norm=2\n",
    "edistance = np.linalg.norm(np.subtract(dataReconstructed, dataset.reshape(dataset_N, height*width)), ord=Norm, axis=1)\n",
    "print(edistance.shape)"
   ]
  },
  {
   "cell_type": "code",
   "execution_count": null,
   "metadata": {},
   "outputs": [],
   "source": [
    "import matplotlib.pyplot as plt\n",
    "\n",
    "plt.figure(figsize=(15,4))\n",
    "plt.subplot(1,2,1)\n",
    "plt.title('Histogram')\n",
    "plt.grid(True)\n",
    "plt.hist(edistance);\n",
    "plt.subplot(1,2,2)\n",
    "plt.title('Boxplot')\n",
    "plt.boxplot(edistance, 0, 'rs', 0);\n",
    "plt.show()"
   ]
  },
  {
   "cell_type": "code",
   "execution_count": null,
   "metadata": {},
   "outputs": [],
   "source": [
    "#outliers\n",
    "from scipy import stats\n",
    "import numpy as np\n",
    "\n",
    "z = np.abs(stats.zscore(edistance))\n",
    "threshold = 3\n",
    "outliers=np.where(z > threshold)\n",
    "quartile_1, quartile_3 = np.percentile(edistance, [25, 75])\n",
    "indexsort=np.argsort(edistance) #indice de imagenes distance de menor a mayor\n",
    "edistancesort=edistance[indexsort] #distancias de imagenes menor a mayor\n",
    "print('Outliers IQ method=',np.size(outliers))\n",
    "print('Q1= ',quartile_1, 'Q3= ',quartile_3)\n",
    "print(edistance[outliers[0]])#validar en pandas"
   ]
  },
  {
   "cell_type": "code",
   "execution_count": null,
   "metadata": {},
   "outputs": [],
   "source": [
    "#grafica distancia minima y maxima\n",
    "fig = plt.figure(figsize=(8,10))\n",
    "ax1 = fig.add_subplot(1,2,1)\n",
    "plt.title(\"Similar Image\")\n",
    "ax1.imshow(dataset[indexsort[0]], plt.cm.gray)\n",
    "ax2 = fig.add_subplot(1,2,2)\n",
    "plt.title(\"Dissimilar Image\")\n",
    "ax2.imshow(dataset[indexsort[-1]], plt.cm.gray)"
   ]
  },
  {
   "cell_type": "code",
   "execution_count": null,
   "metadata": {},
   "outputs": [],
   "source": [
    "#mayores distancias\n",
    "cols = 3\n",
    "rows = 3\n",
    "plt.figure(figsize=(30,20))\n",
    "for i in np.arange(rows * cols):\n",
    "    plt.subplot(rows, cols, i + 1)\n",
    "    plt.imshow(dataset[indexsort[-(i+1)]], plt.cm.gray)"
   ]
  },
  {
   "cell_type": "markdown",
   "metadata": {},
   "source": [
    "# face recognition dataset"
   ]
  },
  {
   "cell_type": "code",
   "execution_count": null,
   "metadata": {},
   "outputs": [],
   "source": [
    "landscapes = np.array(readLandsCapeImage(gray=True))\n",
    "N_land= np.random.randint(0, high=landscapes.shape[0], size=1)[0]\n",
    "landimage=landscapes[N_land].reshape(height*width)-mean_all.reshape(height*width)#seleccionar imagen individual\n",
    "wland=np.dot(landimage,NormEigenvectorsA)#pesos w de cada Eigenface en subespacio generado\n",
    "Reconstland=np.dot(wland,NormEigenvectorsA.T)+mean_all.reshape(height*width)#es mas claro w*vectores propios transpuestos\n",
    "fig = plt.figure(figsize=(8,10))\n",
    "ax1 = fig.add_subplot(1,2,1)\n",
    "plt.title(\"Land image\")\n",
    "ax1.imshow(landscapes[N_land], plt.cm.gray)\n",
    "ax2 = fig.add_subplot(1,2,2)\n",
    "plt.title(\"Reconstructed land Image\")\n",
    "ax2.imshow(Reconstland.reshape(height, width), plt.cm.gray)"
   ]
  },
  {
   "cell_type": "code",
   "execution_count": null,
   "metadata": {},
   "outputs": [],
   "source": [
    "Norm=2\n",
    "edistanceland = np.linalg.norm(np.subtract(landscapes[N_land].reshape(height*width), Reconstland), ord=Norm, axis=0)\n",
    "\n",
    "quartile= np.percentile(edistance,100)\n",
    "\n",
    "if edistanceland>quartile:\n",
    "        print('No pertenece al dataset')\n",
    "else:\n",
    "        print('error')\n",
    "print(quartile) \n",
    "print(edistanceland)    \n"
   ]
  },
  {
   "cell_type": "markdown",
   "metadata": {},
   "source": [
    "# classes"
   ]
  },
  {
   "cell_type": "code",
   "execution_count": null,
   "metadata": {},
   "outputs": [],
   "source": [
    "dataclass1=faces94_female\n",
    "dataset_N2, height, width = dataclass1.shape\n",
    "mean_class1 = np.mean(dataclass1.reshape(dataset_N2, height*width), axis=0)\n",
    "plt.imshow(mean_class1.reshape(height, width), plt.cm.gray)"
   ]
  },
  {
   "cell_type": "code",
   "execution_count": null,
   "metadata": {},
   "outputs": [],
   "source": [
    "omegaclass1=mean_class1 - np.mean(dataset.reshape(dataset_N, height*width), axis=0)\n",
    "wclass1=np.dot(omegaclass1,NormEigenvectorsA)#pesos w de cada Eigenface en subespacio generado\n",
    "Reconstructedc1=np.dot(wclass1,NormEigenvectorsA.T)+mean_all.reshape(height*width)#es mas claro w*vectores propios transpuestos\n",
    "\n",
    "\n",
    "fig = plt.figure(figsize=(8,10))\n",
    "ax1 = fig.add_subplot(1,2,1)\n",
    "plt.title(\"Female mean\")\n",
    "ax1.imshow(mean_class1.reshape(height, width), plt.cm.gray)\n",
    "ax2 = fig.add_subplot(1,2,2)\n",
    "plt.title(\"Reconstructed Female mean\")\n",
    "ax2.imshow(Reconstructedc1.reshape(height, width), plt.cm.gray)"
   ]
  },
  {
   "cell_type": "code",
   "execution_count": null,
   "metadata": {},
   "outputs": [],
   "source": [
    "class1=dataclass1.reshape(dataset_N2, height*width)-mean_all.reshape(height*width)\n",
    "wclass1total=np.dot(class1,NormEigenvectorsA)\n",
    "print(wclass1total.shape)\n",
    "print(wclass1.shape)"
   ]
  },
  {
   "cell_type": "code",
   "execution_count": null,
   "metadata": {},
   "outputs": [],
   "source": [
    "Norm=2\n",
    "edistanceclass1 = np.linalg.norm(np.subtract(wclass1total, wclass1), ord=Norm, axis=1)\n",
    "print(edistanceclass1.shape)\n",
    "print(wclass1.shape)"
   ]
  },
  {
   "cell_type": "code",
   "execution_count": null,
   "metadata": {},
   "outputs": [],
   "source": [
    "import matplotlib.pyplot as plt\n",
    "\n",
    "plt.figure(figsize=(15,4))\n",
    "plt.subplot(1,2,1)\n",
    "plt.title('Histogram')\n",
    "plt.grid(True)\n",
    "plt.hist(edistanceclass1);\n",
    "plt.subplot(1,2,2)\n",
    "plt.title('Boxplot')\n",
    "plt.boxplot(edistanceclass1, 0, 'rs', 0);\n",
    "plt.show()"
   ]
  },
  {
   "cell_type": "code",
   "execution_count": null,
   "metadata": {},
   "outputs": [],
   "source": [
    "quartile_1, quartile_3 = np.percentile(edistanceclass1, [25, 75])\n",
    "\n",
    "\n",
    "image_index = np.random.randint(0, high=dataset_N, size=1)[0]\n",
    "Imagetest=dataset[image_index].reshape(height*width) - np.mean(dataset.reshape(dataset_N, height*width), axis=0)\n",
    "wtest=np.dot(Imagetest,NormEigenvectorsA)\n",
    "\n",
    "Norm=2\n",
    "test = np.linalg.norm(np.subtract(wtest, wclass1), ord=Norm, axis=0)\n",
    "\n",
    "if test>quartile_3:\n",
    "        print('no es mujer')\n",
    "else:\n",
    "        print('es mujer')\n",
    "print(quartile_3) \n",
    "print(test)    \n",
    "   \n",
    "plt.imshow(dataset[image_index], plt.cm.gray)\n",
    "\n"
   ]
  },
  {
   "cell_type": "code",
   "execution_count": null,
   "metadata": {},
   "outputs": [],
   "source": [
    "Norm=2\n",
    "edistanceclass1t = np.linalg.norm(np.subtract(np.dot(data,NormEigenvectorsA), wclass1), ord=Norm, axis=1)\n",
    "print(edistanceclass1t.shape)\n",
    "print(wclass1.shape)\n",
    "import matplotlib.pyplot as plt\n",
    "\n",
    "plt.figure(figsize=(15,4))\n",
    "plt.subplot(1,2,1)\n",
    "plt.title('Histogram')\n",
    "plt.grid(True)\n",
    "plt.hist(edistanceclass1t);\n",
    "plt.subplot(1,2,2)\n",
    "plt.title('Boxplot')\n",
    "plt.boxplot(edistanceclass1t, 0, 'rs', 0);\n",
    "plt.show()"
   ]
  },
  {
   "cell_type": "code",
   "execution_count": null,
   "metadata": {},
   "outputs": [],
   "source": []
  }
 ],
 "metadata": {
  "kernelspec": {
   "display_name": "Python 3",
   "language": "python",
   "name": "python3"
  },
  "language_info": {
   "codemirror_mode": {
    "name": "ipython",
    "version": 3
   },
   "file_extension": ".py",
   "mimetype": "text/x-python",
   "name": "python",
   "nbconvert_exporter": "python",
   "pygments_lexer": "ipython3",
   "version": "3.7.1"
  }
 },
 "nbformat": 4,
 "nbformat_minor": 2
}
